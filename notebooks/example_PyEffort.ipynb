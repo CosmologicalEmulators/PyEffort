{
 "cells": [
  {
   "cell_type": "code",
   "execution_count": null,
   "id": "a0ac4b35-e59b-45ea-b6fc-07c947d97bcb",
   "metadata": {},
   "outputs": [],
   "source": [
    "import numpy as np\n",
    "import sys\n",
    "sys.path.append('/home/marcobonici/Desktop/CosmologicalEmulators/PyEffort/src') # write the path were you put PyCapse\n",
    "import PyEffort\n",
    "import matplotlib.pyplot as plt"
   ]
  },
  {
   "cell_type": "code",
   "execution_count": null,
   "id": "e8f009f1-57d4-4e2a-acec-a200c26f0ef7",
   "metadata": {},
   "outputs": [],
   "source": [
    "emu_xi = PyEffort.load_emu(\"/home/marcobonici/Desktop/CosmologicalEmulators/trained_emulators/test_train_velocileptor_xi/trained_velocileptor_xi_l_0_z1.bson\")\n",
    "input_cosmo = np.array([3.037842, 0.9553725, 0.67123, 0.0230248, 0.142591])\n",
    "Xil_test = PyEffort.compute_Xil(input_cosmo, np.ones(6), emu_xi)"
   ]
  },
  {
   "cell_type": "code",
   "execution_count": null,
   "id": "99574326-3931-4f4f-ad64-24af152d8a8a",
   "metadata": {},
   "outputs": [],
   "source": [
    "plt.plot(emu_xi.rgrid, Xil_test)"
   ]
  },
  {
   "cell_type": "code",
   "execution_count": null,
   "id": "fd2cde88-b353-4d96-a84f-35e47c4832f5",
   "metadata": {},
   "outputs": [],
   "source": [
    "emu_P = PyEffort.load_emu(\"/home/marcobonici/Desktop/CosmologicalEmulators/trained_emulators/test_train_velocileptor/trained_velocileptor_l_0_z1.bson\")\n",
    "input_cosmo = np.array([3.037842, 0.9553725, 0.67123, 0.0230248, 0.142591])\n",
    "Pl_test = PyEffort.compute_Pl(input_cosmo, np.ones(11), emu_P)"
   ]
  },
  {
   "cell_type": "code",
   "execution_count": null,
   "id": "ba422264-092f-474c-b150-5347db7bcd3e",
   "metadata": {
    "tags": []
   },
   "outputs": [],
   "source": [
    "plt.plot(emu_P.kgrid, emu_P.kgrid*Pl_test)"
   ]
  },
  {
   "cell_type": "code",
   "execution_count": null,
   "id": "f1ca88ed-4c47-4231-8b23-fd42187478f1",
   "metadata": {},
   "outputs": [],
   "source": [
    "%timeit PyEffort.compute_Xil(input_cosmo, np.ones(6), emu_xi)"
   ]
  },
  {
   "cell_type": "code",
   "execution_count": null,
   "id": "b41462de-6a4f-4546-9533-4e9a8723b399",
   "metadata": {
    "tags": []
   },
   "outputs": [],
   "source": [
    "%timeit PyEffort.compute_Pl(input_cosmo, np.ones(11), emu_P)"
   ]
  },
  {
   "cell_type": "code",
   "execution_count": null,
   "id": "7e0dce56-6da3-4c32-a66f-07e42b7c30cd",
   "metadata": {},
   "outputs": [],
   "source": [
    "emu_P_pybird = PyEffort.load_emu(\"/home/marcobonici/Desktop/CosmologicalEmulators/trained_emulators/trained_effort_emulators/blinded_challenge/PyBird_061_10000_optiresum_final/emulator_PyBird_w0wanucdm_monopole.bson\")"
   ]
  },
  {
   "cell_type": "code",
   "execution_count": null,
   "id": "834c09fb-d079-4d33-9099-fdf602ed47c2",
   "metadata": {},
   "outputs": [],
   "source": [
    "Pl_test = PyEffort.compute_Pl(np.array([3.0, 67., 0.32]), np.ones(7), 1.5, emu_P_pybird)"
   ]
  },
  {
   "cell_type": "code",
   "execution_count": null,
   "id": "8764a999-834b-47f1-b002-f18633cd3d5f",
   "metadata": {},
   "outputs": [],
   "source": [
    "f = PyEffort.compute_fz(0.61, 0.32, -1., 0.)"
   ]
  },
  {
   "cell_type": "code",
   "execution_count": null,
   "id": "af7e1e14-8158-4544-9520-e86fb6d0925e",
   "metadata": {},
   "outputs": [],
   "source": [
    "%timeit PyEffort.compute_Pl(np.array([3.0, 67., 0.32]), np.ones(7), f, emu_P_pybird)"
   ]
  },
  {
   "cell_type": "code",
   "execution_count": null,
   "id": "ddfe1f1f-f388-4cca-bb85-0cc72587ea11",
   "metadata": {},
   "outputs": [],
   "source": [
    "plt.plot(emu_P_pybird.P11.kgrid, emu_P_pybird.P11.kgrid*Pl_test)"
   ]
  },
  {
   "cell_type": "code",
   "execution_count": null,
   "id": "3a6f9a1c-23b1-4364-bade-19147b9ee683",
   "metadata": {},
   "outputs": [],
   "source": []
  }
 ],
 "metadata": {
  "kernelspec": {
   "display_name": "Python 3 (ipykernel)",
   "language": "python",
   "name": "python3"
  },
  "language_info": {
   "codemirror_mode": {
    "name": "ipython",
    "version": 3
   },
   "file_extension": ".py",
   "mimetype": "text/x-python",
   "name": "python",
   "nbconvert_exporter": "python",
   "pygments_lexer": "ipython3",
   "version": "3.9.12"
  }
 },
 "nbformat": 4,
 "nbformat_minor": 5
}
